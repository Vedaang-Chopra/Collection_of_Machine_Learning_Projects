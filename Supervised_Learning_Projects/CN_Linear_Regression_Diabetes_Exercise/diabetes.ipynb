{
 "cells": [
  {
   "cell_type": "code",
   "execution_count": null,
   "metadata": {
    "collapsed": true
   },
   "outputs": [],
   "source": [
    "import numpy as np\n",
    "import matplotlib as plt\n",
    "import numpy as np\n",
    "from sklearn import model_selection\n",
    "from sklearn.linear_model import LinearRegression\n",
    "import pandas as pd\n",
    "\n",
    "x_o=np.genfromtxt('G:\\Development\\Projects\\Python Projects\\Machine_Learning\\Introduction to Machine Learning\\diabetes-Train.csv',delimiter=',')\n",
    "t_o=np.genfromtxt('G:\\Development\\Projects\\Python Projects\\Machine_Learning\\Introduction to Machine Learning\\diabetes-Test.csv',delimiter=',')\n",
    "print(type(x_o))\n",
    "# x=pd.DataFrame(x_o)\n",
    "# t=pd.DataFrame(t_o)\n",
    "# print(type(t))\n",
    "y=(x_o[:,10])\n",
    "x=x_o[:,0:10]\n",
    "# print(y)\n",
    "print(x_o.shape)\n",
    "print(t_o.shape)\n",
    "# x.columns=x_o.feature_names\n",
    "x_train,x_test,y_train,y_test=model_selection.train_test_split(x,y,test_size=0.30)\n",
    "#t=((t.iloc[:,0:9]).values).reshape(t.shape[0],11)\n",
    "#print(t_x.shape)\n",
    "# print(type(x_test))\n",
    "print(x_train.shape)\n",
    "print(x_test.shape)\n",
    "print(y_train.shape)\n",
    "print(y_test.shape)\n",
    "algo=LinearRegression()\n",
    "algo.fit(x_train,y_train)\n",
    "# print(algo.coef_,algo.intercept_)\n",
    "y_pred=algo.predict(x_test)\n",
    "# # print(y_pred)\n",
    "# # print(y_test)\n",
    "# score_test=algo.score(x_test,y_test)\n",
    "# score_train=algo.score(x_train,y_train)\n",
    "# # print(score_test,score_train)\n",
    "final_y=algo.predict(t_o)\n",
    "# # print(algo.score(t,final_y))\n",
    "# # print(final_y)\n",
    "np.savetxt('G:\\Development\\Projects\\Python Projects\\Machine_Learning\\Introduction to Machine Learning\\sub.csv',final_y,fmt='%0.50f')"
   ]
  }
 ],
 "metadata": {
  "kernelspec": {
   "display_name": "Python 2",
   "language": "python",
   "name": "python2"
  },
  "language_info": {
   "codemirror_mode": {
    "name": "ipython",
    "version": 2
   },
   "file_extension": ".py",
   "mimetype": "text/x-python",
   "name": "python",
   "nbconvert_exporter": "python",
   "pygments_lexer": "ipython2",
   "version": "2.7.6"
  }
 },
 "nbformat": 4,
 "nbformat_minor": 0
}
